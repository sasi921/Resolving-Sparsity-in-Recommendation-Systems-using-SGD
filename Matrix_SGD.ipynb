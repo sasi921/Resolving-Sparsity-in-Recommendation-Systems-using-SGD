{
  "cells": [
    {
      "cell_type": "code",
      "execution_count": null,
      "metadata": {
        "colab": {
          "base_uri": "https://localhost:8080/"
        },
        "id": "DN0TzfscaQFy",
        "outputId": "a711bc0d-3c91-4632-a83b-429b051a586e"
      },
      "outputs": [
        {
          "name": "stdout",
          "output_type": "stream",
          "text": [
            "Looking in indexes: https://pypi.org/simple, https://us-python.pkg.dev/colab-wheels/public/simple/\n",
            "Collecting surprise\n",
            "  Downloading surprise-0.1-py2.py3-none-any.whl (1.8 kB)\n",
            "Collecting scikit-surprise (from surprise)\n",
            "  Downloading scikit-surprise-1.1.3.tar.gz (771 kB)\n",
            "\u001b[2K     \u001b[90m━━━━━━━━━━━━━━━━━━━━━━━━━━━━━━━━━━━━━━\u001b[0m \u001b[32m772.0/772.0 kB\u001b[0m \u001b[31m40.6 MB/s\u001b[0m eta \u001b[36m0:00:00\u001b[0m\n",
            "\u001b[?25h  Preparing metadata (setup.py) ... \u001b[?25l\u001b[?25hdone\n",
            "Requirement already satisfied: joblib>=1.0.0 in /usr/local/lib/python3.10/dist-packages (from scikit-surprise->surprise) (1.2.0)\n",
            "Requirement already satisfied: numpy>=1.17.3 in /usr/local/lib/python3.10/dist-packages (from scikit-surprise->surprise) (1.22.4)\n",
            "Requirement already satisfied: scipy>=1.3.2 in /usr/local/lib/python3.10/dist-packages (from scikit-surprise->surprise) (1.10.1)\n",
            "Building wheels for collected packages: scikit-surprise\n",
            "  Building wheel for scikit-surprise (setup.py) ... \u001b[?25l\u001b[?25hdone\n",
            "  Created wheel for scikit-surprise: filename=scikit_surprise-1.1.3-cp310-cp310-linux_x86_64.whl size=3095435 sha256=744115c55effa9ba03c93a24226605e93dc1a61dfdc1a8bc0a7e4a1561fc3894\n",
            "  Stored in directory: /root/.cache/pip/wheels/a5/ca/a8/4e28def53797fdc4363ca4af740db15a9c2f1595ebc51fb445\n",
            "Successfully built scikit-surprise\n",
            "Installing collected packages: scikit-surprise, surprise\n",
            "Successfully installed scikit-surprise-1.1.3 surprise-0.1\n"
          ]
        }
      ],
      "source": [
        "pip install surprise"
      ]
    },
    {
      "cell_type": "code",
      "execution_count": null,
      "metadata": {
        "id": "NKhfeETkezR6"
      },
      "outputs": [],
      "source": [
        "import pandas as pd\n",
        "import numpy as np\n",
        "import math\n",
        "import re\n",
        "import sklearn\n",
        "from scipy.sparse import csr_matrix\n",
        "import matplotlib.pyplot as plt\n",
        "import seaborn as sns\n",
        "from surprise import SVD, Reader\n",
        "from surprise import Dataset\n",
        "from surprise.model_selection import cross_validate\n",
        "sns.set_style(\"darkgrid\")\n",
        "from cvxpy import *\n",
        "from numpy import matrix\n",
        "class MF():\n",
        "\n",
        "    def __init__(self, R, K, alpha, beta, iterations):\n",
        "        \"\"\"\n",
        "        Perform matrix factorization to predict empty\n",
        "        entries in a matrix.\n",
        "\n",
        "        Arguments\n",
        "        - R (ndarray)   : user-item rating matrix\n",
        "        - K (int)       : number of latent dimensions\n",
        "        - alpha (float) : learning rate\n",
        "        - beta (float)  : regularization parameter\n",
        "        \"\"\"\n",
        "\n",
        "        self.R = R\n",
        "        self.num_users, self.num_items = R.shape\n",
        "        self.K = K\n",
        "        self.alpha = alpha\n",
        "        self.beta = beta\n",
        "        self.iterations = iterations\n",
        "\n",
        "    def train(self):\n",
        "        # Initialize user and item latent feature matrice\n",
        "        self.P = np.random.normal(scale=1./self.K, size=(self.num_users, self.K))\n",
        "        self.Q = np.random.normal(scale=1./self.K, size=(self.num_items, self.K))\n",
        "\n",
        "        # Initialize the biases\n",
        "        self.b_u = np.zeros(self.num_users)\n",
        "        self.b_i = np.zeros(self.num_items)\n",
        "        self.b = np.mean(self.R[np.where(self.R != 0)])\n",
        "\n",
        "        # Create a list of training samples\n",
        "        self.samples = [\n",
        "            (i, j, self.R[i, j])\n",
        "            for i in range(self.num_users)\n",
        "            for j in range(self.num_items)\n",
        "            if self.R[i, j] > 0\n",
        "        ]\n",
        "\n",
        "        # Perform stochastic gradient descent for number of iterations\n",
        "        training_process = []\n",
        "        for i in range(self.iterations):\n",
        "            np.random.shuffle(self.samples)\n",
        "            self.sgd()\n",
        "            mse = self.mse()\n",
        "            training_process.append((i, mse))\n",
        "            #if (i+1) % 100 == 0:\n",
        "            #    print(\"Iteration: %d ; error = %.4f\" % (i+1, mse))\n",
        "\n",
        "        return training_process\n",
        "\n",
        "    def mse(self):\n",
        "        \"\"\"\n",
        "        A function to compute the total mean square error\n",
        "        \"\"\"\n",
        "        xs, ys = self.R.nonzero()\n",
        "        predicted = self.full_matrix()\n",
        "        error = 0\n",
        "        for x, y in zip(xs, ys):\n",
        "            error += pow(self.R[x, y] - predicted[x, y], 2)\n",
        "        return np.sqrt(error)\n",
        "\n",
        "    def sgd(self):\n",
        "        \"\"\"\n",
        "        Perform stochastic graident descent\n",
        "        \"\"\"\n",
        "        for i, j, r in self.samples:\n",
        "            # Computer prediction and error\n",
        "            prediction = self.get_rating(i, j)\n",
        "            e = (r - prediction)\n",
        "\n",
        "            # Update biases\n",
        "            self.b_u[i] += self.alpha * (e - self.beta * self.b_u[i])\n",
        "            self.b_i[j] += self.alpha * (e - self.beta * self.b_i[j])\n",
        "\n",
        "            # Update user and item latent feature matrices\n",
        "            self.P[i, :] += self.alpha * (e * self.Q[j, :] - self.beta * self.P[i,:])\n",
        "            self.Q[j, :] += self.alpha * (e * self.P[i, :] - self.beta * self.Q[j,:])\n",
        "\n",
        "    def get_rating(self, i, j):\n",
        "        \"\"\"\n",
        "        Get the predicted rating of user i and item j\n",
        "        \"\"\"\n",
        "        prediction = self.b + self.b_u[i] + self.b_i[j] + self.P[i, :].dot(self.Q[j, :].T)\n",
        "        return prediction\n",
        "\n",
        "    def full_matrix(self):\n",
        "        \"\"\"\n",
        "        Computer the full matrix using the resultant biases, P and Q\n",
        "        \"\"\"\n",
        "        return self.b + self.b_u[:,np.newaxis] + self.b_i[np.newaxis:,] + self.P.dot(self.Q.T)"
      ]
    },
    {
      "cell_type": "code",
      "execution_count": null,
      "metadata": {
        "colab": {
          "base_uri": "https://localhost:8080/"
        },
        "id": "BGIJQOZQQKyr",
        "outputId": "90f714ac-0cdd-4068-cac9-6ff8fab3afdc"
      },
      "outputs": [
        {
          "name": "stdout",
          "output_type": "stream",
          "text": [
            "Setup Complete\n",
            "\n"
          ]
        }
      ],
      "source": [
        "#Setting up prerequisites\n",
        "#from numba import prange\n",
        "import pandas as pd\n",
        "import numpy as np\n",
        "import math\n",
        "import re\n",
        "import sklearn\n",
        "from scipy.sparse import csr_matrix\n",
        "import matplotlib.pyplot as plt\n",
        "import seaborn as sns\n",
        "from surprise import SVD, Reader\n",
        "from surprise import Dataset\n",
        "from surprise.model_selection import cross_validate\n",
        "sns.set_style(\"darkgrid\")\n",
        "from cvxpy import *\n",
        "print(\"Setup Complete\\n\")\n"
      ]
    },
    {
      "cell_type": "code",
      "execution_count": null,
      "metadata": {
        "colab": {
          "base_uri": "https://localhost:8080/"
        },
        "id": "t0DG7KN3anWK",
        "outputId": "aa718da4-1b17-457e-dd4c-238864941013"
      },
      "outputs": [
        {
          "name": "stdout",
          "output_type": "stream",
          "text": [
            "Select Number of DataPoints to Train on: \n",
            "1: 1024 \t2: 10000 \n",
            "3: 25000 \t4: 75000 \n",
            "5: 100000 \t6: 200000\n",
            "\n",
            "\n",
            "3\n",
            "\n",
            "Loading Data\n",
            "\n"
          ]
        }
      ],
      "source": [
        "import pandas as pd\n",
        "print(\"Select Number of DataPoints to Train on: \\n1: 1024 \\t2: 10000 \\n3: 25000 \\t4: 75000 \\n5: 100000 \\t6: 200000\\n\\n\")\n",
        "choice = int(input())\n",
        "print(\"\\nLoading Data\\n\")\n",
        "if (choice==1 or choice==1024):\n",
        "\tdf1 = pd.read_csv('feasible_data_1024.txt', header = None, names = ['Cust_Id', 'Rating', 'Date'], usecols = [0,1,2])\n",
        "elif (choice==2 or choice==10000):\n",
        "\tdf1 = pd.read_csv('feasible_data_10000.txt', header = None, names = ['Cust_Id', 'Rating', 'Date'], usecols = [0,1,2])\n",
        "elif (choice==3 or choice==25000):\n",
        "\tdf1 = pd.read_csv('feasible_data_25000.txt', header = None, names = ['Cust_Id', 'Rating', 'Date'], usecols = [0,1,2])\n",
        "elif (choice==4 or choice==75000):\n",
        "\tdf1 = pd.read_csv('feasible_data_75000.txt', header = None, names = ['Cust_Id', 'Rating', 'Date'], usecols = [0,1,2])\n",
        "elif (choice==5 or choice==100000):\n",
        "\tdf1 = pd.read_csv('feasible_data_100000.txt', header = None, names = ['Cust_Id', 'Rating', 'Date'], usecols = [0,1,2])\n",
        "elif (choice==6 or choice==200000):\n",
        "\tdf1 = pd.read_csv('feasible_data_200000.txt', header = None, names = ['Cust_Id', 'Rating', 'Date'], usecols = [0,1,2])"
      ]
    },
    {
      "cell_type": "code",
      "execution_count": null,
      "metadata": {
        "colab": {
          "base_uri": "https://localhost:8080/"
        },
        "id": "0SVuIJPUbKE5",
        "outputId": "ad2ff76b-97d8-4768-b0df-bfe28269d72e"
      },
      "outputs": [
        {
          "name": "stdout",
          "output_type": "stream",
          "text": [
            "Dataset 1 shape: (25000, 3)\n",
            "-Dataset examples-\n",
            "       Cust_Id  Rating        Date\n",
            "0           1:     NaN         NaN\n",
            "10000   470361     2.0  20050516.0\n",
            "20000  1189445     4.0  20050625.0\n"
          ]
        }
      ],
      "source": [
        "df1['Rating'] = df1['Rating'].astype(float)\n",
        "df1['Date'] = df1['Date'].astype(str)\n",
        "df1['Date'] = df1['Date'].map( lambda s : (s[:4])+(s[5:7])+(s[8:]))\n",
        "df1['Date'] = df1['Date'].astype(float)\n",
        "print('Dataset 1 shape: {}'.format(df1.shape))\n",
        "print('-Dataset examples-')\n",
        "print(df1.iloc[::10000, :])\n",
        "#print(df1['Date'].dtype)\n",
        "df = df1\n"
      ]
    },
    {
      "cell_type": "code",
      "execution_count": null,
      "metadata": {
        "colab": {
          "base_uri": "https://localhost:8080/",
          "height": 789
        },
        "id": "3XbqjYl6bNri",
        "outputId": "0f3f6850-106c-4e74-d6de-52ac291ac203"
      },
      "outputs": [
        {
          "data": {
            "image/png": "[encoded data removed]",
            "text/plain": [
              "<Figure size 1500x1000 with 1 Axes>"
            ]
          },
          "metadata": {},
          "output_type": "display_data"
        }
      ],
      "source": [
        "\n",
        "#Seeing the distribution of ratings given by the users\n",
        "#print(\"See Overview of the Data\")\n",
        "import matplotlib.pyplot as plt\n",
        "p = df.groupby('Rating')['Rating'].agg(['count'])\n",
        "# get movie count\n",
        "movie_count = df.isnull().sum()[1]\n",
        "# get customer count\n",
        "cust_count = df['Cust_Id'].nunique() - movie_count\n",
        "# get rating count\n",
        "rating_count = df['Cust_Id'].count() - movie_count\n",
        "ax = p.plot(kind = 'barh', legend = False, figsize = (15,10))\n",
        "plt.title('Total pool: {:,} Movies, {:,} customers, {:,} ratings given'.format(movie_count, cust_count, rating_count), fontsize=20)\n",
        "plt.axis('off')\n",
        "for i in range(1,6):\n",
        "    ax.text(p.iloc[i-1][0]/4, i-1, 'Rated {}: {:.0f}%'.format(i, p.iloc[i-1][0]*100 / p.sum()[0]), color = 'white', weight = 'bold')\n"
      ]
    },
    {
      "cell_type": "code",
      "execution_count": null,
      "metadata": {
        "colab": {
          "base_uri": "https://localhost:8080/"
        },
        "id": "-Gfc-LtobTYw",
        "outputId": "cb8f156f-ce06-42f9-e371-d695b5a78509"
      },
      "outputs": [
        {
          "name": "stdout",
          "output_type": "stream",
          "text": [
            "\n",
            "Extracting Movie IDs\n",
            "\n",
            "Movie IDs extracted from the extra rows given\n"
          ]
        }
      ],
      "source": [
        "\n",
        "\n",
        "import numpy as np\n",
        "#Adding movie IDs to the dataset\n",
        "print(\"\\nExtracting Movie IDs\\n\")\n",
        "movie_np = []\n",
        "movie_id = 0\n",
        "for x in range(df.shape[0]):\n",
        "    if(np.isnan(df.iloc[x]['Rating'])):\n",
        "        movie_id = movie_id+1\n",
        "    movie_np = np.append(movie_np,movie_id)\n",
        "#print(movie_np)\n",
        "#print(len(movie_np))\n",
        "df['Movie_Id'] = movie_np.astype(int)\n",
        "print(\"Movie IDs extracted from the extra rows given\")\n",
        "\n",
        "\n"
      ]
    },
    {
      "cell_type": "code",
      "execution_count": null,
      "metadata": {
        "colab": {
          "base_uri": "https://localhost:8080/"
        },
        "id": "QkJESpRxbVIN",
        "outputId": "1018bc3e-45b9-423b-8430-b1ad559264b7"
      },
      "outputs": [
        {
          "name": "stdout",
          "output_type": "stream",
          "text": [
            "\n",
            "Removing extra Movie ID rows\n",
            "\n",
            "-Dataset examples-\n",
            "       Cust_Id  Rating        Date  Movie_Id\n",
            "1      1488844     3.0  20050906.0         1\n",
            "101    1155747     3.0  20050703.0         1\n",
            "201    1141189     4.0  20041215.0         1\n",
            "301    2256485     1.0  20040819.0         1\n",
            "401    2322840     3.0  20050712.0         1\n",
            "...        ...     ...         ...       ...\n",
            "24517   509786     3.0  20050811.0        17\n",
            "24617   429038     4.0  20051020.0        17\n",
            "24717   421130     2.0  20050829.0        17\n",
            "24817  1523984     1.0  20050714.0        17\n",
            "24917   327993     4.0  20051102.0        17\n",
            "\n",
            "[250 rows x 4 columns]\n",
            "\n",
            "\n",
            "These are the final datatypes of the dataset\n",
            "Cust_Id       int64\n",
            "Rating      float64\n",
            "Date        float64\n",
            "Movie_Id      int64\n",
            "dtype: object\n"
          ]
        },
        {
          "name": "stderr",
          "output_type": "stream",
          "text": [
            "<ipython-input-9-28c47e94b145>:4: SettingWithCopyWarning: \n",
            "A value is trying to be set on a copy of a slice from a DataFrame.\n",
            "Try using .loc[row_indexer,col_indexer] = value instead\n",
            "\n",
            "See the caveats in the documentation: https://pandas.pydata.org/pandas-docs/stable/user_guide/indexing.html#returning-a-view-versus-a-copy\n",
            "  df['Cust_Id'] = df['Cust_Id'].astype(int)\n"
          ]
        }
      ],
      "source": [
        " # remove the extra Movie ID rows\n",
        "print(\"\\nRemoving extra Movie ID rows\\n\")\n",
        "df = df[pd.notnull(df['Rating'])]\n",
        "df['Cust_Id'] = df['Cust_Id'].astype(int)\n",
        "print('-Dataset examples-')\n",
        "print(df.iloc[::100, :])\n",
        "print(\"\\n\\nThese are the final datatypes of the dataset\")\n",
        "print(df.dtypes)\n",
        "\n"
      ]
    },
    {
      "cell_type": "code",
      "execution_count": null,
      "metadata": {
        "colab": {
          "base_uri": "https://localhost:8080/"
        },
        "id": "rpeUOW9KbY7o",
        "outputId": "58cc62c7-df4c-4c56-8989-4ecdad8bd058"
      },
      "outputs": [
        {
          "name": "stdout",
          "output_type": "stream",
          "text": [
            "(23396, 17)\n"
          ]
        }
      ],
      "source": [
        "#Creating Data Matrix\n",
        "df_matrix=pd.pivot_table(df,values='Rating',index='Cust_Id',columns='Movie_Id')\n",
        "print(df_matrix.shape)\n"
      ]
    },
    {
      "cell_type": "code",
      "execution_count": null,
      "metadata": {
        "colab": {
          "base_uri": "https://localhost:8080/"
        },
        "id": "EZQxePQ7bflD",
        "outputId": "b87fb816-3055-4334-8112-5dde7e599dab"
      },
      "outputs": [
        {
          "name": "stdout",
          "output_type": "stream",
          "text": [
            "\n",
            "Loading the Movie ID- Movie Title Mapping File\n",
            "\n",
            "See some Movie ID- Movie Title Mapping : \n",
            "\n",
            "            Year                          Name\n",
            "Movie_Id                                      \n",
            "ï»¿1      2003.0               Dinosaur Planet\n",
            "2         2004.0    Isle of Man TT 2004 Review\n",
            "3         1997.0                     Character\n",
            "4         1994.0  Paula Abdul's Get Up & Dance\n",
            "5         2004.0      The Rise and Fall of ECW\n",
            "6         1997.0                          Sick\n",
            "7         1992.0                         8 Man\n",
            "8         2004.0    What the #$*! Do We Know!?\n"
          ]
        }
      ],
      "source": [
        "#Loading the Movie ID- Movie Title Mapping File\n",
        "print(\"\\nLoading the Movie ID- Movie Title Mapping File\\n\")\n",
        "df_title = pd.read_csv('movie_titles (2).csv', encoding = \"ISO-8859-1\", header = None, names = ['Movie_Id', 'Year', 'Name'])\n",
        "df_title.set_index('Movie_Id', inplace = True)\n",
        "print(\"See some Movie ID- Movie Title Mapping : \\n\")\n",
        "print (df_title.head(8))"
      ]
    },
    {
      "cell_type": "code",
      "execution_count": null,
      "metadata": {
        "colab": {
          "base_uri": "https://localhost:8080/"
        },
        "id": "Znt63qNYdUAD",
        "outputId": "a75ceaed-12bc-409c-8f5a-1cf98a4551f2"
      },
      "outputs": [
        {
          "name": "stdout",
          "output_type": "stream",
          "text": [
            "\n",
            "\n",
            "Data Cleaning Complete.\n",
            " See head of the Data Matrix:\n",
            "\n",
            "Movie_Id  1   2   3   4    5   6   7    8   9   10  11  12  13  14  15  16  17\n",
            "Cust_Id                                                                       \n",
            "7        NaN NaN NaN NaN  NaN NaN NaN  5.0 NaN NaN NaN NaN NaN NaN NaN NaN NaN\n",
            "307      NaN NaN NaN NaN  NaN NaN NaN  3.0 NaN NaN NaN NaN NaN NaN NaN NaN NaN\n",
            "685      NaN NaN NaN NaN  3.0 NaN NaN  NaN NaN NaN NaN NaN NaN NaN NaN NaN NaN\n",
            "695      NaN NaN NaN NaN  NaN NaN NaN  1.0 NaN NaN NaN NaN NaN NaN NaN NaN NaN\n",
            "734      NaN NaN NaN NaN  NaN NaN NaN  1.0 NaN NaN NaN NaN NaN NaN NaN NaN NaN\n",
            "\n",
            "Num of movies = 17\n",
            "Num of users = 23396\n",
            "\n"
          ]
        }
      ],
      "source": [
        "print(\"\\n\\nData Cleaning Complete.\\n See head of the Data Matrix:\\n\")\n",
        "print(df_matrix.head())\n",
        "n_movies = movie_count\n",
        "n_customers = cust_count\n",
        "print(\"\\nNum of movies =\", movie_count)\n",
        "print(\"Num of users =\", cust_count)\n",
        "print()"
      ]
    },
    {
      "cell_type": "code",
      "execution_count": null,
      "metadata": {
        "colab": {
          "base_uri": "https://localhost:8080/"
        },
        "id": "KJjK_2b2dZqa",
        "outputId": "574c37a1-127c-49c2-9fe2-7a82c7b4a634"
      },
      "outputs": [
        {
          "name": "stdout",
          "output_type": "stream",
          "text": [
            "Movie_Id   1    2    3    4    5    6    7    8    9    10   11   12   13  \\\n",
            "Cust_Id                                                                     \n",
            "7         0.0  0.0  0.0  0.0  0.0  0.0  0.0  5.0  0.0  0.0  0.0  0.0  0.0   \n",
            "307       0.0  0.0  0.0  0.0  0.0  0.0  0.0  3.0  0.0  0.0  0.0  0.0  0.0   \n",
            "685       0.0  0.0  0.0  0.0  3.0  0.0  0.0  0.0  0.0  0.0  0.0  0.0  0.0   \n",
            "695       0.0  0.0  0.0  0.0  0.0  0.0  0.0  1.0  0.0  0.0  0.0  0.0  0.0   \n",
            "734       0.0  0.0  0.0  0.0  0.0  0.0  0.0  1.0  0.0  0.0  0.0  0.0  0.0   \n",
            "\n",
            "Movie_Id   14   15   16   17  \n",
            "Cust_Id                       \n",
            "7         0.0  0.0  0.0  0.0  \n",
            "307       0.0  0.0  0.0  0.0  \n",
            "685       0.0  0.0  0.0  0.0  \n",
            "695       0.0  0.0  0.0  0.0  \n",
            "734       0.0  0.0  0.0  0.0  \n"
          ]
        }
      ],
      "source": [
        "#Choosing the number of latent attributes\n",
        "n_attr= 100*50\n",
        "#print(type(n_attr),type(n_movies), type(n_customers))\n",
        "Q = Variable((n_attr,n_movies))\n",
        "P = Variable((n_attr, n_customers))\n",
        "acq_data = df_matrix.fillna(0.0)\n",
        "print(acq_data.head())\n"
      ]
    },
    {
      "cell_type": "code",
      "execution_count": null,
      "metadata": {
        "colab": {
          "background_save": true,
          "base_uri": "https://localhost:8080/"
        },
        "id": "cJU7fzSkd9At",
        "outputId": "a575c289-600e-4b59-8069-8d71a33c5116"
      },
      "outputs": [
        {
          "name": "stdout",
          "output_type": "stream",
          "text": [
            "\n",
            "Randomly Distributing Test and Train Set by removing 20% values...\n",
            "\n",
            "Done\n",
            "\n",
            "Original:\n",
            " [[0. 0. 0. ... 0. 0. 0.]\n",
            " [0. 0. 0. ... 0. 0. 0.]\n",
            " [0. 0. 0. ... 0. 0. 0.]\n",
            " ...\n",
            " [0. 0. 0. ... 0. 0. 0.]\n",
            " [0. 0. 0. ... 0. 0. 0.]\n",
            " [0. 0. 0. ... 0. 0. 0.]]\n",
            "Test Set:\n",
            " [[0. 0. 0. ... 0. 0. 0.]\n",
            " [0. 0. 0. ... 0. 0. 0.]\n",
            " [0. 0. 0. ... 0. 0. 0.]\n",
            " ...\n",
            " [0. 0. 0. ... 0. 0. 0.]\n",
            " [0. 0. 0. ... 0. 0. 0.]\n",
            " [0. 0. 0. ... 0. 0. 0.]]\n",
            "RMSE= 0.37463420689184224\n",
            "\n",
            "Training ...\n",
            "\n",
            "\n",
            "Done\n",
            "\n",
            "Minimizing Error on Training Set:\n",
            "\n",
            "Learnt=\n",
            " [[4.43908429 3.762442   4.48376621 ... 5.03511196 4.03546024 3.14025169]\n",
            " [4.24300166 4.37842942 3.67081243 ... 2.47029296 3.02930102 3.31461005]\n",
            " [3.19343234 3.37036363 3.04654602 ... 2.55120559 2.48564316 2.4665199 ]\n",
            " ...\n",
            " [3.464594   3.19905095 3.91940108 ... 4.84060889 3.5163726  2.64196176]\n",
            " [4.69524594 5.60054246 4.53731581 ... 3.41398524 3.91052271 4.51726791]\n",
            " [3.79195289 3.82288869 4.08002281 ... 4.46336896 3.61803917 3.12793188]]\n",
            "\n",
            "Rating predictions=\n",
            " [[4. 4. 4. ... 5. 4. 3.]\n",
            " [4. 4. 4. ... 2. 3. 3.]\n",
            " [3. 3. 3. ... 3. 2. 2.]\n",
            " ...\n",
            " [3. 3. 4. ... 5. 4. 3.]\n",
            " [5. 6. 5. ... 3. 4. 5.]\n",
            " [4. 4. 4. ... 4. 4. 3.]]\n",
            "\n",
            "\n",
            "Global bias:\n",
            "3.2517129992169145\n",
            "\n",
            "User bias:\n",
            "[ 0.98153481  0.01106226 -0.62354054 ...  0.33381322  0.72323361\n",
            "  0.43663379]\n",
            "\n",
            "Item bias:\n",
            "[ 0.47353407  0.52240089  0.39337979 -0.49038004  0.69784817 -0.09958185\n",
            " -0.90878231 -0.08920259 -0.6386861   0.12698874 -0.113576    0.1839289\n",
            "  1.27711353  0.01508869  0.1211663  -0.14310514 -0.3240047 ]\n",
            "\n",
            "Finding Error on test set...\n",
            "\n",
            "RMSE final= 0.001422618338916694\n"
          ]
        },
        {
          "data": {
            "image/png": "[encoded data removed]",
            "text/plain": [
              "<Figure size 1600x400 with 1 Axes>"
            ]
          },
          "metadata": {},
          "output_type": "display_data"
        }
      ],
      "source": [
        "\n",
        "R = np.array(acq_data)\n",
        "R1= np.array(acq_data)\n",
        "\n",
        "\n",
        "print(\"\\nRandomly Distributing Test and Train Set by removing 20% values...\\n\")\n",
        "#This cell works on Real DataSet\n",
        "R = np.array(acq_data)\n",
        "R1= np.array(acq_data)\n",
        "#Set the number of values to replace. For example 20%:\n",
        "prop = int(R.size * 0.2)\n",
        "#Randomly choose indices of the numpy array:\n",
        "#print(\"Creating Random Indices\\n\")\n",
        "# i = [np.random.choice(range(R.shape[0])) for _ in range(prop)]\n",
        "# j = [np.random.choice(range(R.shape[1])) for _ in range(prop)]\n",
        "i = np.random.randint(0,R.shape[0],size=prop)\n",
        "j = np.random.randint(0,R.shape[1],size=prop)\n",
        "#print(\"Created Random Indices\\n\")\n",
        "print(\"Done\\n\")\n",
        "#print(\"i=\",i)\n",
        "#print(\"j=\",j)\n",
        "#Change values with 0\n",
        "R[i,j] = 0\n",
        "print(\"Original:\\n\",R1)\n",
        "print(\"Test Set:\\n\",R)\n",
        "R=np.rint(R)\n",
        "from sklearn.metrics import mean_squared_error\n",
        "mse = mean_squared_error(R, R1)\n",
        "print(\"RMSE=\",mse**0.5)\n",
        "print(\"\\nTraining ...\\n\")\n",
        "mf = MF(R, K=2, alpha=0.01, beta=0.01, iterations=100)\n",
        "training_process = mf.train()\n",
        "L=np.rint(mf.full_matrix())\n",
        "print(\"\\nDone\\n\")\n",
        "x = [x for x, y in training_process]\n",
        "y = [y for x, y in training_process]\n",
        "x = x[::10]\n",
        "y = y[::10]\n",
        "plt.figure(figsize=((16,4)))\n",
        "plt.plot(x, np.sqrt(y))\n",
        "plt.xticks(x, x)\n",
        "print(\"Minimizing Error on Training Set:\\n\")\n",
        "plt.xlabel(\"Iterations\")\n",
        "plt.ylabel(\"Root Mean Square Error\")\n",
        "plt.grid(axis=\"y\")\n",
        "print(\"Learnt=\\n\",mf.full_matrix())\n",
        "print(\"\\nRating predictions=\\n\",L)\n",
        "print()\n",
        "print()\n",
        "print(\"Global bias:\")\n",
        "print(mf.b)\n",
        "print()\n",
        "print(\"User bias:\")\n",
        "print(mf.b_u)\n",
        "print()\n",
        "print(\"Item bias:\")\n",
        "print(mf.b_i)\n",
        "print(\"\\nFinding Error on test set...\\n\")\n",
        "msef=0.0\n",
        "# for i1 in range(len(i)):\n",
        "#     for i2 in range(len(j)):\n",
        "#         if R1.item(i[i1],j[i2])!=0:\n",
        "#             msef = msef + (R1.item((i[i1],j[i2]))-(L).item((i[i1],j[i2])))**2\n",
        "# msef = (msef/(len(j)*len(i)))\n",
        "valid_cmp = ~np.isnan(df_matrix)\n",
        "msef = np.sum(np.sum(np.multiply(valid_cmp,np.square(R1-L)),axis=None))/(len(j)*len(i)*1.00)\n",
        "\n",
        "print(\"RMSE final=\",msef**0.5)"
      ]
    }
  ],
  "metadata": {
    "colab": {
      "provenance": []
    },
    "kernelspec": {
      "display_name": "Python 3",
      "name": "python3"
    },
    "language_info": {
      "name": "python"
    }
  },
  "nbformat": 4,
  "nbformat_minor": 0
}